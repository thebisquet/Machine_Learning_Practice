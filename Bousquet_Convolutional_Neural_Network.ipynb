{
  "nbformat": 4,
  "nbformat_minor": 0,
  "metadata": {
    "colab": {
      "name": "Bousquet_CNN2.ipynb",
      "provenance": []
    },
    "kernelspec": {
      "name": "python3",
      "display_name": "Python 3"
    },
    "language_info": {
      "name": "python"
    }
  },
  "cells": [
    {
      "cell_type": "code",
      "execution_count": 39,
      "metadata": {
        "id": "doOyQ3uN1x_E"
      },
      "outputs": [],
      "source": [
        "from functools import partial\n",
        "import tensorflow as tf\n",
        "from tensorflow import keras\n",
        "import numpy as np\n",
        "from sklearn.datasets import load_sample_image\n",
        "from matplotlib import pyplot as plt"
      ]
    },
    {
      "cell_type": "code",
      "source": [
        "(X_train_full, y_train_full), (X_test, y_test) = keras.datasets.fashion_mnist.load_data()\n",
        "X_train, X_valid = X_train_full[:-5000], X_train_full[-5000:]\n",
        "y_train, y_valid = y_train_full[:-5000], y_train_full[-5000:]\n",
        "\n",
        "X_mean = X_train.mean(axis=0, keepdims=True)\n",
        "X_std = X_train.std(axis=0, keepdims=True) + 1e-7\n",
        "X_train = (X_train - X_mean) / X_std\n",
        "X_test = (X_test - X_mean) / X_std\n",
        "X_valid = (X_valid - X_mean) / X_std\n",
        "\n",
        "X_train = X_train[..., np.newaxis]\n",
        "X_test = X_test[..., np.newaxis]\n",
        "X_valid = X_valid[..., np.newaxis]"
      ],
      "metadata": {
        "id": "-ZCKv75A2Afk"
      },
      "execution_count": 40,
      "outputs": []
    },
    {
      "cell_type": "code",
      "source": [
        "X_train.shape"
      ],
      "metadata": {
        "colab": {
          "base_uri": "https://localhost:8080/"
        },
        "id": "UEvk91v44Xh5",
        "outputId": "387785cd-77b6-40a6-d050-243d7f932713"
      },
      "execution_count": 41,
      "outputs": [
        {
          "output_type": "execute_result",
          "data": {
            "text/plain": [
              "(55000, 28, 28, 1)"
            ]
          },
          "metadata": {},
          "execution_count": 41
        }
      ]
    },
    {
      "cell_type": "code",
      "source": [
        "DefaultConv2d = partial(keras.layers.Conv2d, kernel_size=3, activation='relu', padding='SAME')\n",
        "\n",
        "model = keras.models.Sequential([\n",
        "  DefaultConv2d(filters=64, kernel_size=7, input_shape=[28,28,1]),\n",
        "  keras.layers.MaxPooling2d(pool_size=2),\n",
        "  DefaultConv2d(filters=128),\n",
        "  DefaultConv2d(filters=128),\n",
        "  keras.layers.MaxPooling2d(pool_size=2),\n",
        "  DefaultConv2d(filters=256),\n",
        "  DefaultConv2d(filters=256),\n",
        "  keras.layers.MaxPooling2d(pool_size=2),\n",
        "  keras.layers.Flatten(),\n",
        "  keras.layers.Dense(units=128, activation='relu'),\n",
        "  keras.layers.Dropout(0.5),\n",
        "  keras.layers.Dense(units=64, activation='relu'),\n",
        "  keras.layers.Dropout(0.5),\n",
        "  keras.layers.Dense(units=10, activation='softmax')\n",
        "])"
      ],
      "metadata": {
        "colab": {
          "base_uri": "https://localhost:8080/",
          "height": 243
        },
        "id": "P8efIDwN3N-A",
        "outputId": "aa5660ef-632d-45a5-8f7c-dcbdacaf4185"
      },
      "execution_count": 42,
      "outputs": [
        {
          "output_type": "error",
          "ename": "AttributeError",
          "evalue": "ignored",
          "traceback": [
            "\u001b[0;31m---------------------------------------------------------------------------\u001b[0m",
            "\u001b[0;31mAttributeError\u001b[0m                            Traceback (most recent call last)",
            "\u001b[0;32m<ipython-input-42-ac08584f560b>\u001b[0m in \u001b[0;36m<module>\u001b[0;34m()\u001b[0m\n\u001b[0;32m----> 1\u001b[0;31m \u001b[0mDefaultConv2d\u001b[0m \u001b[0;34m=\u001b[0m \u001b[0mpartial\u001b[0m\u001b[0;34m(\u001b[0m\u001b[0mkeras\u001b[0m\u001b[0;34m.\u001b[0m\u001b[0mlayers\u001b[0m\u001b[0;34m.\u001b[0m\u001b[0mConv2d\u001b[0m\u001b[0;34m,\u001b[0m \u001b[0mkernel_size\u001b[0m\u001b[0;34m=\u001b[0m\u001b[0;36m3\u001b[0m\u001b[0;34m,\u001b[0m \u001b[0mactivation\u001b[0m\u001b[0;34m=\u001b[0m\u001b[0;34m'relu'\u001b[0m\u001b[0;34m,\u001b[0m \u001b[0mpadding\u001b[0m\u001b[0;34m=\u001b[0m\u001b[0;34m'SAME'\u001b[0m\u001b[0;34m)\u001b[0m\u001b[0;34m\u001b[0m\u001b[0;34m\u001b[0m\u001b[0m\n\u001b[0m\u001b[1;32m      2\u001b[0m \u001b[0;34m\u001b[0m\u001b[0m\n\u001b[1;32m      3\u001b[0m model = keras.models.Sequential([\n\u001b[1;32m      4\u001b[0m   \u001b[0mDefaultConv2d\u001b[0m\u001b[0;34m(\u001b[0m\u001b[0mfilters\u001b[0m\u001b[0;34m=\u001b[0m\u001b[0;36m64\u001b[0m\u001b[0;34m,\u001b[0m \u001b[0mkernel_size\u001b[0m\u001b[0;34m=\u001b[0m\u001b[0;36m7\u001b[0m\u001b[0;34m,\u001b[0m \u001b[0minput_shape\u001b[0m\u001b[0;34m=\u001b[0m\u001b[0;34m[\u001b[0m\u001b[0;36m28\u001b[0m\u001b[0;34m,\u001b[0m\u001b[0;36m28\u001b[0m\u001b[0;34m,\u001b[0m\u001b[0;36m1\u001b[0m\u001b[0;34m]\u001b[0m\u001b[0;34m)\u001b[0m\u001b[0;34m,\u001b[0m\u001b[0;34m\u001b[0m\u001b[0;34m\u001b[0m\u001b[0m\n\u001b[1;32m      5\u001b[0m   \u001b[0mkeras\u001b[0m\u001b[0;34m.\u001b[0m\u001b[0mlayers\u001b[0m\u001b[0;34m.\u001b[0m\u001b[0mMaxPooling2d\u001b[0m\u001b[0;34m(\u001b[0m\u001b[0mpool_size\u001b[0m\u001b[0;34m=\u001b[0m\u001b[0;36m2\u001b[0m\u001b[0;34m)\u001b[0m\u001b[0;34m,\u001b[0m\u001b[0;34m\u001b[0m\u001b[0;34m\u001b[0m\u001b[0m\n",
            "\u001b[0;31mAttributeError\u001b[0m: module 'keras.api._v2.keras.layers' has no attribute 'Conv2d'"
          ]
        }
      ]
    },
    {
      "cell_type": "code",
      "source": [
        "model.compile(loss=\"sparse_categorical_crossentropy\", optimizer='nadam', metrics=['accuracy'])\n",
        "history = model.fit(X_train, y_train, epochs=10, validation_data=(X_valid, y_valid))\n",
        "score = model.evaluate(X_test, y_test)\n",
        "X_new = X_test[:10]\n",
        "y_pred = model.predict(X_new)"
      ],
      "metadata": {
        "id": "lZOo3OiA669O"
      },
      "execution_count": null,
      "outputs": []
    },
    {
      "cell_type": "code",
      "source": [
        "model2 = keras.applications.resnet50.ResNet50(weights='imagenet')"
      ],
      "metadata": {
        "id": "t_o7GA897oT-"
      },
      "execution_count": null,
      "outputs": []
    },
    {
      "cell_type": "code",
      "source": [
        "def plot_color_image(image):\n",
        "  plt.imshow(image, interpolation='nearest')\n",
        "  plt.axis(\"off\")"
      ],
      "metadata": {
        "id": "Sw3F4b06706S"
      },
      "execution_count": null,
      "outputs": []
    },
    {
      "cell_type": "code",
      "source": [
        "china = load_sample_image(\"china.jpg\") / 255\n",
        "flower = load_sample_image(\"flower.jpg\") / 255\n",
        "images = np.array([china, flower])\n",
        "\n",
        "image_resized = tf.image.resize(images, [224,224])\n",
        "plot_color_image(images_resized[0])\n",
        "plt.show()"
      ],
      "metadata": {
        "id": "Gj8B2eD_7-Fl"
      },
      "execution_count": null,
      "outputs": []
    },
    {
      "cell_type": "code",
      "source": [
        "plot_color_image(china)"
      ],
      "metadata": {
        "id": "iUpWYk479On8"
      },
      "execution_count": null,
      "outputs": []
    },
    {
      "cell_type": "code",
      "source": [
        "images_resized = tf.image.resize_with_pad(images, 244, 244, antialias=True)\n",
        "plot_color_image(images_resized[0])\n",
        "plt.show()"
      ],
      "metadata": {
        "id": "JZnXB90E8aYw"
      },
      "execution_count": null,
      "outputs": []
    },
    {
      "cell_type": "code",
      "source": [
        "images_resized = tf.image.resize_with_crop_or_pad(images, 244, 244)\n",
        "plot_color_image(images_resized[0])\n",
        "plt.show()"
      ],
      "metadata": {
        "id": "_lHY7BGG8im6"
      },
      "execution_count": null,
      "outputs": []
    },
    {
      "cell_type": "code",
      "source": [
        "china_box = [0,0.03,1,0.68]\n",
        "flower_box = [0.19,0.26,0.86,0.7]\n",
        "images_resized = tf.image.crop_and_resize(images, [china_box, flower_box], [0,1],[224,224])\n",
        "plot_color_image(images_resized[0])\n",
        "plt.show()\n",
        "plot_color_image(images_resized[1])\n",
        "plt.show()"
      ],
      "metadata": {
        "id": "lGT_cOhh8qLk"
      },
      "execution_count": null,
      "outputs": []
    },
    {
      "cell_type": "code",
      "source": [
        "inputs = keras.applications.resnet50.preprocess_input(images_resized * 255)\n",
        "Y_proba = model2.predict(inputs)"
      ],
      "metadata": {
        "id": "VbHk4f3A9yS-"
      },
      "execution_count": null,
      "outputs": []
    },
    {
      "cell_type": "code",
      "source": [
        "top_K = keras.applications.resnet50.decode_predictions(Y_proba, top=5)\n",
        "for image_index in range(len(images)):\n",
        "  print(\"Image #{}\".format(image_index))\n",
        "  for class_id, name, Y_proba in top_K[image_index]:\n",
        "    print(\"{} - {:12s} {:.2f}%\".format(class_id, name, Y_proba * 100))\n",
        "  print()\n",
        "                                  "
      ],
      "metadata": {
        "id": "tFsgODdS9yLv"
      },
      "execution_count": null,
      "outputs": []
    },
    {
      "cell_type": "code",
      "source": [
        "import tensorflow_datasets as tfds\n",
        "\n",
        "dataset, info = tfds.load(\"tf_flowers\", as_supervised=True, with_info=True)"
      ],
      "metadata": {
        "id": "POQYrHZP_YqR"
      },
      "execution_count": null,
      "outputs": []
    },
    {
      "cell_type": "code",
      "source": [
        "class_names = info.features[\"label\"].class_names\n",
        "class_names"
      ],
      "metadata": {
        "id": "RO3uaBPv_pNy"
      },
      "execution_count": null,
      "outputs": []
    },
    {
      "cell_type": "code",
      "source": [
        "test_set_raw, valid_set_raw, train_set_raw = tfds.load(\"tf_flowers\", split=[\"train[:10%]\", \"train[10%:25%\", \"train[25%:]\"], as_supervised=True)"
      ],
      "metadata": {
        "id": "HtA5j1pn_wMZ"
      },
      "execution_count": null,
      "outputs": []
    },
    {
      "cell_type": "code",
      "source": [
        "plt.figure(figsize=(12,10))\n",
        "index = 0\n",
        "for image, label in train_set_raw.take(9):\n",
        "  index += 1\n",
        "  plt.subplot(3,3,index)\n",
        "  plt.imshow(image)\n",
        "  plt.title(\"Class: {}\".format(class_names[label]))\n",
        "  plt.axis(\"off\")\n",
        "\n",
        "plt.show()"
      ],
      "metadata": {
        "id": "6Ly3xD0aANU1"
      },
      "execution_count": null,
      "outputs": []
    },
    {
      "cell_type": "code",
      "source": [
        "n_classes = info.features[\"label\"].num_classes\n",
        "print(n_classes)\n",
        "dataset_size = info.splits[\"train\"].num_examples\n",
        "print(dataset_size)"
      ],
      "metadata": {
        "id": "sBXobH_WAvp3"
      },
      "execution_count": null,
      "outputs": []
    },
    {
      "cell_type": "code",
      "source": [
        "info"
      ],
      "metadata": {
        "id": "jEMRw6k1BGOl"
      },
      "execution_count": null,
      "outputs": []
    },
    {
      "cell_type": "code",
      "source": [
        "def central_crop(image):\n",
        "  shape = tf.shape.(image)\n",
        "  min_dim = tf.reduce_min([shape[0], shape[1]])\n",
        "  top_crop = (shape[0] - min_dim)\n",
        "  bottom_crop = shape[0] - top_crop\n",
        "  left_crop = (shape[1] - min_dim)\n",
        "  right_crop = shape[1] - left_crop\n",
        "  return image[top_crop:bottom_crop, left_crop:right_crop]\n",
        "\n",
        "def random_crop(image):\n",
        "  shape = tf.shape(image)\n",
        "  min_dim = tf.reduce_min([shape[0], shape[1]]) * 90 // 100\n",
        "  return tf.image.random_crop(image, [min_dim, min_dim, 3])\n",
        "\n",
        "def preprocess(image, label):\n",
        "  if randomize:\n",
        "    cropped_image = random_crop(image)\n",
        "    cropped_image = tf.image.random_flip_left_right(cropped_image)\n",
        "  else:\n",
        "    cropped_image = central_crop(image)\n",
        "\n",
        "  resized_image = tf.image.resize(image, [299,299])\n",
        "  final_image = keras.applications.xception.preprocess_input(resized_image)\n",
        "  return final_image, label"
      ],
      "metadata": {
        "id": "Hxtl-6DTBHfV"
      },
      "execution_count": null,
      "outputs": []
    },
    {
      "cell_type": "code",
      "source": [
        "batch_size = 32\n",
        "train_set = train_set_raw.shuffle(1000).repeat()\n",
        "train_set = train_set.map(partial(preprocess).batch(batch_size).prefetch(1))\n",
        "valid_set = valid_set_raw.map(preprocess).batch(batch_size).prefetch(1)\n",
        "test_set = test_set_raw.map(preprocess).batch(batch_size).prefetch(1)"
      ],
      "metadata": {
        "id": "4P5-h-AICaBu"
      },
      "execution_count": null,
      "outputs": []
    },
    {
      "cell_type": "code",
      "source": [
        "plt.figure(figsize=(12,12))\n",
        "for X_batch, y_batch in train_set.take(1):\n",
        "  for index in range(9):\n",
        "    plt.subplot(3,3,index+1)\n",
        "    plt.imshow(X_batch[index] / 2 + .5)\n",
        "    plt.title(\"class: {}\".format(class_names[y_batch[index]]))\n",
        "    plt.axis(\"off\")\n",
        "\n",
        "plt.show()"
      ],
      "metadata": {
        "id": "4Zrwq7U6DaAA"
      },
      "execution_count": null,
      "outputs": []
    },
    {
      "cell_type": "code",
      "source": [
        "base_model = keras.applications.xception.Xception(weights=\"imagenet\", include_top=False)\n",
        "avg = keras.layers.GlobalAveragePooling2d()(base_model.output)\n",
        "output = keras.layers.Dense(n_classes, activation=\"softmax\")(avg)\n",
        "model = keras.models.Model(inputs=base_model.input, outputs=output)"
      ],
      "metadata": {
        "id": "-9R0ksY_EBtX"
      },
      "execution_count": null,
      "outputs": []
    },
    {
      "cell_type": "code",
      "source": [
        "for index, layer in enumerate(model.layers):\n",
        "  print(index, layer.name)"
      ],
      "metadata": {
        "id": "EzKW_UDIEwis"
      },
      "execution_count": null,
      "outputs": []
    },
    {
      "cell_type": "code",
      "source": [
        "for layer in base_model.layers:\n",
        "  layer.trainable = False\n",
        "\n",
        "optimizer = keras.optimizers.SGD(learning_rate=0.2, momentum=0.9, decay=0.01)\n",
        "model.compile(loss=\"sparse_categorical_crossentropy\", optimizer=optimizer, metrics=[\"accuracy\"])\n",
        "\n",
        "history = model.fit(train_set, steps_per_epoch=int(dataset_size / batch_size * 0.75), validation_data = valid_set, validation_steps=int(0.15 * dataset_size / batch_size), epochs=5)"
      ],
      "metadata": {
        "id": "KHroMbjEE-BJ"
      },
      "execution_count": null,
      "outputs": []
    },
    {
      "cell_type": "code",
      "source": [
        ""
      ],
      "metadata": {
        "id": "qnMAIquRF4C-"
      },
      "execution_count": null,
      "outputs": []
    }
  ]
}
