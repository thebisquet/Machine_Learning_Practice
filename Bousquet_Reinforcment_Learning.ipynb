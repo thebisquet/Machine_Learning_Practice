{
 "cells": [
  {
   "cell_type": "code",
   "execution_count": 74,
   "id": "e73ead42-edf4-4373-ae6a-bfb0b44fc4ee",
   "metadata": {},
   "outputs": [],
   "source": [
    "from ipythonblocks import BlockGrid\n",
    "from IPython.display import clear_output\n",
    "from collections import deque\n",
    "from heapq import heappop, heappush\n",
    "import random\n",
    "import time\n",
    "\n",
    "######################################################\n",
    "############### Constants ############################\n",
    "\n",
    "# display constants (for command line)\n",
    "W = chr(9618)\n",
    "B = chr(32)\n",
    "\n",
    "# maze size settings\n",
    "MAZE_ROWS = 10\n",
    "MAZE_COLS = 14\n",
    "######################################################\n",
    "######################################################"
   ]
  },
  {
   "cell_type": "code",
   "execution_count": 75,
   "id": "5cdbc681-9cba-41d9-b0ca-3d7139996f02",
   "metadata": {},
   "outputs": [],
   "source": [
    "maze_map = [\n",
    "    [W, W, W, W, W, W, W, W, W, W, W, W, W, W],\n",
    "    [W, B, B, B, B, W, W, W, B, B, B, W, B, W],\n",
    "    [W, B, W, W, B, W, W, B, B, W, B, W, B, W],\n",
    "    [W, B, W, B, B, B, B, B, W, W, B, B, B, W],\n",
    "    [W, W, W, B, W, W, W, W, W, W, W, W, W, W],\n",
    "    [W, W, B, B, B, B, W, B, W, B, W, B, B, W],\n",
    "    [W, W, B, W, W, B, W, B, W, B, B, B, W, W],\n",
    "    [W, W, B, W, W, W, W, B, B, B, W, W, W, W],\n",
    "    [W, B, B, B, B, B, B, B, W, B, B, B, B, W],\n",
    "    [W, W, W, W, W, W, W, W, W, W, W, W, W, W],\n",
    "]\n",
    "\n",
    "h_map = [\n",
    "    [W,  W,  W,  W,  W,  W,  W,  W,  W,  W,  W,  W,  W,  W],\n",
    "    [W, 25, 24, 23, 22,  W,  W,  W, 26, 27, 28,  W, 34,  W],\n",
    "    [W, 28,  W,  W, 21,  W,  W, 24, 25,  W, 29,  W, 33,  W],\n",
    "    [W, 27,  W, 19, 20, 21, 22, 23,  W,  W, 30, 31, 32,  W],\n",
    "    [W,  W,  W, 18,  W,  W,  W,  W,  W,  W,  W,  W,  W,  W],\n",
    "    [W,  W, 16, 17, 18, 19,  W,  9,  W,  5,  W,  1,  0,  W],\n",
    "    [W,  W, 15,  W,  W, 20,  W,  8,  W,  4,  3,  2,  W,  W],\n",
    "    [W,  W, 14,  W,  W,  W,  W,  7,  6,  5,  W,  W,  W,  W],\n",
    "    [W, 14, 13, 12, 11, 10,  9,  8,  W,  6,  7,  8,  9,  W],\n",
    "    [W,  W,  W,  W,  W,  W,  W,  W,  W,  W,  W,  W,  W,  W],\n",
    "]"
   ]
  },
  {
   "cell_type": "code",
   "execution_count": 99,
   "id": "a4aa0b65-d8d1-4d49-9b84-70fb79e51362",
   "metadata": {},
   "outputs": [],
   "source": [
    "mr, mc, cr, cc = 1, 1, 5, 12 # mouse and cheese starting locations"
   ]
  },
  {
   "cell_type": "code",
   "execution_count": 77,
   "id": "6d776338-1c29-4435-ae6a-fd0947f7548a",
   "metadata": {},
   "outputs": [],
   "source": [
    "def found_cheese(mr, mc, cr, cc):\n",
    "    return((mr == cr) and (mc == cc))"
   ]
  },
  {
   "cell_type": "code",
   "execution_count": 78,
   "id": "b44318a5-307c-46e2-90e1-77211676ba49",
   "metadata": {},
   "outputs": [],
   "source": [
    "def draw_maze(mc, mr, cr, cc, visited = set(), sol = set()):\n",
    "    \n",
    "    maze = BlockGrid(MAZE_COLS, MAZE_ROWS, fill=(200, 200, 200))\n",
    "    clear_output()\n",
    "\n",
    "    for block in maze:\n",
    "\n",
    "        if maze_map[block.row][block.col] == W:\n",
    "            block.red = 50\n",
    "            block.green = 50\n",
    "            block.blue = 50\n",
    "        \n",
    "        if (block.row, block.col) in visited:\n",
    "            block.red = 0\n",
    "            block.green = 0\n",
    "            block.blue = 255\n",
    "            \n",
    "        if (block.row, block.col) in sol:\n",
    "            block.red = 255\n",
    "            block.green = 0\n",
    "            block.blue = 255\n",
    "            \n",
    "    maze[cr, cc].set_colors(245, 178, 34) \n",
    "    maze[mr, mc].set_colors(115, 42, 42)\n",
    "       \n",
    "    maze.show()\n"
   ]
  },
  {
   "cell_type": "code",
   "execution_count": 79,
   "id": "27bcb4ea-beb4-48cc-ae01-c6c70648a60f",
   "metadata": {},
   "outputs": [],
   "source": [
    "def hitwall(mr, mc):\n",
    "    return(maze_map[mr][mc] == W)"
   ]
  },
  {
   "cell_type": "code",
   "execution_count": 80,
   "id": "c435797d-ae69-4114-8eb1-5f2d42559436",
   "metadata": {},
   "outputs": [],
   "source": [
    "class Node:\n",
    "    def __init__(self, location, parent = None):\n",
    "        self.location = location\n",
    "        self.parent = parent"
   ]
  },
  {
   "cell_type": "code",
   "execution_count": 81,
   "id": "2b6498de-6e7d-4c9e-b38e-25a670ce4fa7",
   "metadata": {},
   "outputs": [],
   "source": [
    "class Queue:\n",
    "    def __init__(self, *elements):\n",
    "        self._elements = deque(elements)\n",
    "\n",
    "    def enqueue(self, element):\n",
    "        self._elements.append(element)\n",
    "\n",
    "    def dequeue(self):\n",
    "        return self._elements.popleft()"
   ]
  },
  {
   "cell_type": "code",
   "execution_count": 82,
   "id": "1f0541f3-1468-48e1-9a28-4cd4a9d4a9c3",
   "metadata": {},
   "outputs": [],
   "source": [
    "class PriorityQueue:\n",
    "    def __init__(self, *elements):\n",
    "        self._elements = [elements]\n",
    "\n",
    "    def enqueue(self, priority, value):\n",
    "        heappush(self._elements, (priority, value))\n",
    "\n",
    "    def dequeue(self):\n",
    "        return heappop(self._elements)"
   ]
  },
  {
   "cell_type": "code",
   "execution_count": 83,
   "id": "1a966738-0b01-4db6-8fea-08db0c67421d",
   "metadata": {},
   "outputs": [],
   "source": [
    "def move_mouse(mr, mc, move):\n",
    "    \n",
    "    if move == 'u':\n",
    "        if hitwall(mr - 1, mc):\n",
    "            ouch()\n",
    "        else:\n",
    "            mr = mr - 1\n",
    "    elif move == 'd':\n",
    "        if hitwall(mr + 1, mc):\n",
    "            ouch()\n",
    "        else:\n",
    "            mr = mr + 1\n",
    "    elif move == 'l':\n",
    "        if hitwall(mr, mc - 1):\n",
    "            ouch()\n",
    "        else:\n",
    "            mc = mc - 1\n",
    "    elif move == 'r':\n",
    "        if hitwall(mr, mc + 1):\n",
    "            ouch()\n",
    "        else:\n",
    "            mc = mc + 1\n",
    "    else:\n",
    "        print(\"Invalid move\")\n",
    "    \n",
    "    return(mr, mc)\n",
    "    "
   ]
  },
  {
   "cell_type": "code",
   "execution_count": 84,
   "id": "92115eb7-9e70-4962-a23a-bc5ad71040c3",
   "metadata": {},
   "outputs": [],
   "source": [
    "def sol_path(visited):\n",
    "    not_root = True\n",
    "    solution = []\n",
    "    child = (cr, cc)\n",
    "    while not_root:\n",
    "        solution.append(visited[child])\n",
    "        if solution[-1] == None:\n",
    "            not_root = False\n",
    "        else:\n",
    "            child = visited[child]\n",
    "    return solution"
   ]
  },
  {
   "cell_type": "code",
   "execution_count": 85,
   "id": "df239fed-a48e-4191-88f3-5fb29bd3772a",
   "metadata": {},
   "outputs": [],
   "source": [
    "def ouch():\n",
    "    print(\"bump\")"
   ]
  },
  {
   "cell_type": "code",
   "execution_count": 86,
   "id": "b8ab0bd3-8216-4986-87e1-d438be6ee37f",
   "metadata": {},
   "outputs": [],
   "source": [
    "def random_agent(mr, mc, cr, cc):\n",
    "    \n",
    "    moves = ['u', 'd', 'l', 'r']\n",
    "    \n",
    "    draw_maze(mc, mr, cr, cc)\n",
    "    \n",
    "    while not found_cheese(mr, mc, cr, cc):\n",
    "        \n",
    "        move = random.choice(moves)\n",
    "        mr, mc = move_mouse(mr, mc, move)\n",
    "        draw_maze(mc, mr, cr, cc)\n",
    "        time.sleep(.5)\n",
    "        \n",
    "    print(\"Cheese found!\")\n",
    "    print(\"Total path cost: {}\".format(action_cost))\n"
   ]
  },
  {
   "cell_type": "code",
   "execution_count": 87,
   "id": "73426a2b-091f-4616-b6bc-13e59bdbbb22",
   "metadata": {},
   "outputs": [],
   "source": [
    "def user_move(mr, mc, cr, cc):\n",
    "    \n",
    "    action_cost = 0\n",
    "    draw_maze(mc, mr, cr, cc)\n",
    "    print(\"You may move the mouse with the following moves:\\nUp: u\\nDown: d\\nLeft: l\\nRight: r\\nTo exit, press x.\")\n",
    "        \n",
    "    while not found_cheese(mr, mc, cr, cc):\n",
    "            \n",
    "            move = input(\"Input move: \")\n",
    "                    \n",
    "            if move == 'x':\n",
    "                break\n",
    "            else:\n",
    "                mr, mc = move_mouse(mr, mc, move)\n",
    "                    \n",
    "            action_cost += 1\n",
    "            draw_maze(mc, mr, cr, cc)\n",
    "            print(\"You may move the mouse with the following moves:\\nUp: u\\nDown: d\\nLeft: l\\nRight: r\\nTo exit, press x.\")\n",
    " \n",
    "    draw_maze(mc, mr, cr, cc)\n",
    "    if move == 'x':\n",
    "        print(\"User exited the maze.\")\n",
    "    else:\n",
    "        print(\"You found the cheese!\")\n",
    "    print(\"Total path cost: {}\".format(action_cost))\n",
    "\n",
    "                 "
   ]
  },
  {
   "cell_type": "code",
   "execution_count": 88,
   "id": "60f867ef-80f1-4b88-9e25-4b9fa996828b",
   "metadata": {},
   "outputs": [],
   "source": [
    "def depth_first_search(mr, mc, cr, cc):\n",
    "    \n",
    "    moves = ['u', 'd', 'l', 'r']\n",
    "    action_cost = 0\n",
    "    curr_node = Node((mr, mc))\n",
    "    frontier = [curr_node]\n",
    "    visited = dict()\n",
    "    draw_maze(mc, mr, cr, cc, visited)\n",
    "    while frontier:\n",
    "        time.sleep(.5)\n",
    "        curr_node = frontier.pop()\n",
    "        mr, mc = curr_node.location[0], curr_node.location[1]\n",
    "        if not found_cheese(mr, mc, cr, cc):\n",
    "            if curr_node.location not in visited:\n",
    "                visited.update({curr_node.location : curr_node.parent})\n",
    "                for move in moves:\n",
    "                    move_r, move_c = move_mouse(mr, mc, move)\n",
    "                    if not ((mr == move_r) and (mc == move_c)) and (move_r, move_c) not in visited:\n",
    "                        frontier.append(Node((move_r, move_c), (mr, mc)))\n",
    "                action_cost += 1\n",
    "        else:\n",
    "            visited.update({curr_node.location : curr_node.parent})\n",
    "            draw_maze(mc, mr, cr, cc, visited, sol_path(visited))\n",
    "            print(\"Cheese found!\")\n",
    "            print(\"Total path cost: {}\".format(action_cost))\n",
    "            break\n",
    "            \n",
    "        draw_maze(mc, mr, cr, cc, visited)\n",
    "        print(\"Total path cost: {}\".format(action_cost))\n",
    "        "
   ]
  },
  {
   "cell_type": "code",
   "execution_count": 89,
   "id": "565debbb-567c-452f-884f-0e776a11a246",
   "metadata": {},
   "outputs": [],
   "source": [
    "def breadth_first_search(mr, mc, cr, cc):\n",
    "    \n",
    "    moves = ['u', 'd', 'l', 'r']\n",
    "    action_cost = 0\n",
    "    curr_node = Node((mr, mc))\n",
    "    frontier = None # Fill this in\n",
    "    visited = dict()\n",
    "    draw_maze(mc, mr, cr, cc, visited)\n",
    "    while frontier:\n",
    "        time.sleep(.5)\n",
    "        curr_node = None # Fill this in\n",
    "        mr, mc = None # Fill this in\n",
    "        if not found_cheese(mr, mc, cr, cc):\n",
    "            None # Fill this in\n",
    "        else:\n",
    "            visited.update({curr_node.location : curr_node.parent})\n",
    "            draw_maze(mc, mr, cr, cc, visited, sol_path(visited))\n",
    "            print(\"Cheese found!\")\n",
    "            print(\"Total path cost: {}\".format(action_cost))\n",
    "            break\n",
    "            \n",
    "        draw_maze(mc, mr, cr, cc, visited)\n",
    "        print(\"Total path cost: {}\".format(action_cost))"
   ]
  },
  {
   "cell_type": "code",
   "execution_count": 90,
   "id": "5274c500-ea91-4d53-b74f-1307c94b7e34",
   "metadata": {},
   "outputs": [],
   "source": [
    "def best_first_search(mr, mc, cr, cc):\n",
    "    \n",
    "    moves = ['u', 'd', 'l', 'r']\n",
    "    action_cost = 0\n",
    "    curr_node = Node((mr, mc))\n",
    "    frontier = None # Fill this in\n",
    "    visited = dict()\n",
    "    draw_maze(mc, mr, cr, cc, visited)\n",
    "    while frontier:\n",
    "        time.sleep(.5)\n",
    "        curr_node = None # Fill this in\n",
    "        mr, mc = None #Fill this in\n",
    "        if not found_cheese(mr, mc, cr, cc):\n",
    "            None # Fill this in\n",
    "        else:\n",
    "            visited.update({curr_node.location : curr_node.parent})\n",
    "            draw_maze(mc, mr, cr, cc, visited, sol_path(visited))\n",
    "            print(\"Cheese found!\")\n",
    "            print(\"Total path cost: {}\".format(action_cost))\n",
    "            break\n",
    "            \n",
    "        draw_maze(mc, mr, cr, cc, visited)\n",
    "        print(\"Total path cost: {}\".format(action_cost))"
   ]
  },
  {
   "cell_type": "code",
   "execution_count": 98,
   "id": "e92ba8cc-7a93-4fe9-8632-26d51f2ecae3",
   "metadata": {},
   "outputs": [],
   "source": [
    "def run_maze():\n",
    "    \n",
    "    run_choice = input(\n",
    "        \"Press 1 to run the depth first mouse.\\n\"\n",
    "        \"Press 2 to run the breadth first mouse.\\n\"\n",
    "        \"Press 3 to run the best first mouse.\\n\"\n",
    "        \"Press 4 to run the mouse manually.\\n\"\n",
    "        \"Press 5 to run the random mouse.\\n\"\n",
    "        \"Press 6 to exit the menu.\"\n",
    "    )\n",
    "    \n",
    "    if run_choice == '1':\n",
    "        print(\"made it\")\n",
    "        depth_first_search(mr, mc, cr, cc)\n",
    "    elif run_choice == '2':\n",
    "        breadth_first_search(mr, mc, cr, cc)\n",
    "    elif run_choice == '3':\n",
    "        best_first_search(mr, mc, cr, cc)\n",
    "    elif run_choice == '4':\n",
    "        user_move(mr, mc, cr, cc)\n",
    "    elif run_choice == '5':\n",
    "        random_agent(mr, mc, cr, cc)\n",
    "    else:\n",
    "        return\n"
   ]
  },
  {
   "cell_type": "code",
   "execution_count": 96,
   "id": "d2c20cf9-4a02-478d-aa47-0f08a656fb00",
   "metadata": {},
   "outputs": [
    {
     "data": {
      "text/html": [
       "<style type=\"text/css\">table.blockgrid {border: none;} .blockgrid tr {border: none;} .blockgrid td {padding: 0px;} #blocks9423dc60-5c8b-46da-8fe7-a5d2ac357c7e td {border: 1px solid white;}</style><table id=\"blocks9423dc60-5c8b-46da-8fe7-a5d2ac357c7e\" class=\"blockgrid\"><tbody><tr><td title=\"Index: [0, 0]&#10;Color: (50, 50, 50)\" style=\"width: 20px; height: 20px;background-color: rgb(50, 50, 50);\"></td><td title=\"Index: [0, 1]&#10;Color: (50, 50, 50)\" style=\"width: 20px; height: 20px;background-color: rgb(50, 50, 50);\"></td><td title=\"Index: [0, 2]&#10;Color: (50, 50, 50)\" style=\"width: 20px; height: 20px;background-color: rgb(50, 50, 50);\"></td><td title=\"Index: [0, 3]&#10;Color: (50, 50, 50)\" style=\"width: 20px; height: 20px;background-color: rgb(50, 50, 50);\"></td><td title=\"Index: [0, 4]&#10;Color: (50, 50, 50)\" style=\"width: 20px; height: 20px;background-color: rgb(50, 50, 50);\"></td><td title=\"Index: [0, 5]&#10;Color: (50, 50, 50)\" style=\"width: 20px; height: 20px;background-color: rgb(50, 50, 50);\"></td><td title=\"Index: [0, 6]&#10;Color: (50, 50, 50)\" style=\"width: 20px; height: 20px;background-color: rgb(50, 50, 50);\"></td><td title=\"Index: [0, 7]&#10;Color: (50, 50, 50)\" style=\"width: 20px; height: 20px;background-color: rgb(50, 50, 50);\"></td><td title=\"Index: [0, 8]&#10;Color: (50, 50, 50)\" style=\"width: 20px; height: 20px;background-color: rgb(50, 50, 50);\"></td><td title=\"Index: [0, 9]&#10;Color: (50, 50, 50)\" style=\"width: 20px; height: 20px;background-color: rgb(50, 50, 50);\"></td><td title=\"Index: [0, 10]&#10;Color: (50, 50, 50)\" style=\"width: 20px; height: 20px;background-color: rgb(50, 50, 50);\"></td><td title=\"Index: [0, 11]&#10;Color: (50, 50, 50)\" style=\"width: 20px; height: 20px;background-color: rgb(50, 50, 50);\"></td><td title=\"Index: [0, 12]&#10;Color: (50, 50, 50)\" style=\"width: 20px; height: 20px;background-color: rgb(50, 50, 50);\"></td><td title=\"Index: [0, 13]&#10;Color: (50, 50, 50)\" style=\"width: 20px; height: 20px;background-color: rgb(50, 50, 50);\"></td></tr><tr><td title=\"Index: [1, 0]&#10;Color: (50, 50, 50)\" style=\"width: 20px; height: 20px;background-color: rgb(50, 50, 50);\"></td><td title=\"Index: [1, 1]&#10;Color: (115, 42, 42)\" style=\"width: 20px; height: 20px;background-color: rgb(115, 42, 42);\"></td><td title=\"Index: [1, 2]&#10;Color: (200, 200, 200)\" style=\"width: 20px; height: 20px;background-color: rgb(200, 200, 200);\"></td><td title=\"Index: [1, 3]&#10;Color: (200, 200, 200)\" style=\"width: 20px; height: 20px;background-color: rgb(200, 200, 200);\"></td><td title=\"Index: [1, 4]&#10;Color: (200, 200, 200)\" style=\"width: 20px; height: 20px;background-color: rgb(200, 200, 200);\"></td><td title=\"Index: [1, 5]&#10;Color: (50, 50, 50)\" style=\"width: 20px; height: 20px;background-color: rgb(50, 50, 50);\"></td><td title=\"Index: [1, 6]&#10;Color: (50, 50, 50)\" style=\"width: 20px; height: 20px;background-color: rgb(50, 50, 50);\"></td><td title=\"Index: [1, 7]&#10;Color: (50, 50, 50)\" style=\"width: 20px; height: 20px;background-color: rgb(50, 50, 50);\"></td><td title=\"Index: [1, 8]&#10;Color: (200, 200, 200)\" style=\"width: 20px; height: 20px;background-color: rgb(200, 200, 200);\"></td><td title=\"Index: [1, 9]&#10;Color: (200, 200, 200)\" style=\"width: 20px; height: 20px;background-color: rgb(200, 200, 200);\"></td><td title=\"Index: [1, 10]&#10;Color: (200, 200, 200)\" style=\"width: 20px; height: 20px;background-color: rgb(200, 200, 200);\"></td><td title=\"Index: [1, 11]&#10;Color: (50, 50, 50)\" style=\"width: 20px; height: 20px;background-color: rgb(50, 50, 50);\"></td><td title=\"Index: [1, 12]&#10;Color: (200, 200, 200)\" style=\"width: 20px; height: 20px;background-color: rgb(200, 200, 200);\"></td><td title=\"Index: [1, 13]&#10;Color: (50, 50, 50)\" style=\"width: 20px; height: 20px;background-color: rgb(50, 50, 50);\"></td></tr><tr><td title=\"Index: [2, 0]&#10;Color: (50, 50, 50)\" style=\"width: 20px; height: 20px;background-color: rgb(50, 50, 50);\"></td><td title=\"Index: [2, 1]&#10;Color: (200, 200, 200)\" style=\"width: 20px; height: 20px;background-color: rgb(200, 200, 200);\"></td><td title=\"Index: [2, 2]&#10;Color: (50, 50, 50)\" style=\"width: 20px; height: 20px;background-color: rgb(50, 50, 50);\"></td><td title=\"Index: [2, 3]&#10;Color: (50, 50, 50)\" style=\"width: 20px; height: 20px;background-color: rgb(50, 50, 50);\"></td><td title=\"Index: [2, 4]&#10;Color: (200, 200, 200)\" style=\"width: 20px; height: 20px;background-color: rgb(200, 200, 200);\"></td><td title=\"Index: [2, 5]&#10;Color: (50, 50, 50)\" style=\"width: 20px; height: 20px;background-color: rgb(50, 50, 50);\"></td><td title=\"Index: [2, 6]&#10;Color: (50, 50, 50)\" style=\"width: 20px; height: 20px;background-color: rgb(50, 50, 50);\"></td><td title=\"Index: [2, 7]&#10;Color: (200, 200, 200)\" style=\"width: 20px; height: 20px;background-color: rgb(200, 200, 200);\"></td><td title=\"Index: [2, 8]&#10;Color: (200, 200, 200)\" style=\"width: 20px; height: 20px;background-color: rgb(200, 200, 200);\"></td><td title=\"Index: [2, 9]&#10;Color: (50, 50, 50)\" style=\"width: 20px; height: 20px;background-color: rgb(50, 50, 50);\"></td><td title=\"Index: [2, 10]&#10;Color: (200, 200, 200)\" style=\"width: 20px; height: 20px;background-color: rgb(200, 200, 200);\"></td><td title=\"Index: [2, 11]&#10;Color: (50, 50, 50)\" style=\"width: 20px; height: 20px;background-color: rgb(50, 50, 50);\"></td><td title=\"Index: [2, 12]&#10;Color: (200, 200, 200)\" style=\"width: 20px; height: 20px;background-color: rgb(200, 200, 200);\"></td><td title=\"Index: [2, 13]&#10;Color: (50, 50, 50)\" style=\"width: 20px; height: 20px;background-color: rgb(50, 50, 50);\"></td></tr><tr><td title=\"Index: [3, 0]&#10;Color: (50, 50, 50)\" style=\"width: 20px; height: 20px;background-color: rgb(50, 50, 50);\"></td><td title=\"Index: [3, 1]&#10;Color: (200, 200, 200)\" style=\"width: 20px; height: 20px;background-color: rgb(200, 200, 200);\"></td><td title=\"Index: [3, 2]&#10;Color: (50, 50, 50)\" style=\"width: 20px; height: 20px;background-color: rgb(50, 50, 50);\"></td><td title=\"Index: [3, 3]&#10;Color: (200, 200, 200)\" style=\"width: 20px; height: 20px;background-color: rgb(200, 200, 200);\"></td><td title=\"Index: [3, 4]&#10;Color: (200, 200, 200)\" style=\"width: 20px; height: 20px;background-color: rgb(200, 200, 200);\"></td><td title=\"Index: [3, 5]&#10;Color: (200, 200, 200)\" style=\"width: 20px; height: 20px;background-color: rgb(200, 200, 200);\"></td><td title=\"Index: [3, 6]&#10;Color: (200, 200, 200)\" style=\"width: 20px; height: 20px;background-color: rgb(200, 200, 200);\"></td><td title=\"Index: [3, 7]&#10;Color: (200, 200, 200)\" style=\"width: 20px; height: 20px;background-color: rgb(200, 200, 200);\"></td><td title=\"Index: [3, 8]&#10;Color: (50, 50, 50)\" style=\"width: 20px; height: 20px;background-color: rgb(50, 50, 50);\"></td><td title=\"Index: [3, 9]&#10;Color: (50, 50, 50)\" style=\"width: 20px; height: 20px;background-color: rgb(50, 50, 50);\"></td><td title=\"Index: [3, 10]&#10;Color: (200, 200, 200)\" style=\"width: 20px; height: 20px;background-color: rgb(200, 200, 200);\"></td><td title=\"Index: [3, 11]&#10;Color: (200, 200, 200)\" style=\"width: 20px; height: 20px;background-color: rgb(200, 200, 200);\"></td><td title=\"Index: [3, 12]&#10;Color: (200, 200, 200)\" style=\"width: 20px; height: 20px;background-color: rgb(200, 200, 200);\"></td><td title=\"Index: [3, 13]&#10;Color: (50, 50, 50)\" style=\"width: 20px; height: 20px;background-color: rgb(50, 50, 50);\"></td></tr><tr><td title=\"Index: [4, 0]&#10;Color: (50, 50, 50)\" style=\"width: 20px; height: 20px;background-color: rgb(50, 50, 50);\"></td><td title=\"Index: [4, 1]&#10;Color: (50, 50, 50)\" style=\"width: 20px; height: 20px;background-color: rgb(50, 50, 50);\"></td><td title=\"Index: [4, 2]&#10;Color: (50, 50, 50)\" style=\"width: 20px; height: 20px;background-color: rgb(50, 50, 50);\"></td><td title=\"Index: [4, 3]&#10;Color: (200, 200, 200)\" style=\"width: 20px; height: 20px;background-color: rgb(200, 200, 200);\"></td><td title=\"Index: [4, 4]&#10;Color: (50, 50, 50)\" style=\"width: 20px; height: 20px;background-color: rgb(50, 50, 50);\"></td><td title=\"Index: [4, 5]&#10;Color: (50, 50, 50)\" style=\"width: 20px; height: 20px;background-color: rgb(50, 50, 50);\"></td><td title=\"Index: [4, 6]&#10;Color: (50, 50, 50)\" style=\"width: 20px; height: 20px;background-color: rgb(50, 50, 50);\"></td><td title=\"Index: [4, 7]&#10;Color: (50, 50, 50)\" style=\"width: 20px; height: 20px;background-color: rgb(50, 50, 50);\"></td><td title=\"Index: [4, 8]&#10;Color: (50, 50, 50)\" style=\"width: 20px; height: 20px;background-color: rgb(50, 50, 50);\"></td><td title=\"Index: [4, 9]&#10;Color: (50, 50, 50)\" style=\"width: 20px; height: 20px;background-color: rgb(50, 50, 50);\"></td><td title=\"Index: [4, 10]&#10;Color: (50, 50, 50)\" style=\"width: 20px; height: 20px;background-color: rgb(50, 50, 50);\"></td><td title=\"Index: [4, 11]&#10;Color: (50, 50, 50)\" style=\"width: 20px; height: 20px;background-color: rgb(50, 50, 50);\"></td><td title=\"Index: [4, 12]&#10;Color: (50, 50, 50)\" style=\"width: 20px; height: 20px;background-color: rgb(50, 50, 50);\"></td><td title=\"Index: [4, 13]&#10;Color: (50, 50, 50)\" style=\"width: 20px; height: 20px;background-color: rgb(50, 50, 50);\"></td></tr><tr><td title=\"Index: [5, 0]&#10;Color: (50, 50, 50)\" style=\"width: 20px; height: 20px;background-color: rgb(50, 50, 50);\"></td><td title=\"Index: [5, 1]&#10;Color: (50, 50, 50)\" style=\"width: 20px; height: 20px;background-color: rgb(50, 50, 50);\"></td><td title=\"Index: [5, 2]&#10;Color: (200, 200, 200)\" style=\"width: 20px; height: 20px;background-color: rgb(200, 200, 200);\"></td><td title=\"Index: [5, 3]&#10;Color: (200, 200, 200)\" style=\"width: 20px; height: 20px;background-color: rgb(200, 200, 200);\"></td><td title=\"Index: [5, 4]&#10;Color: (200, 200, 200)\" style=\"width: 20px; height: 20px;background-color: rgb(200, 200, 200);\"></td><td title=\"Index: [5, 5]&#10;Color: (200, 200, 200)\" style=\"width: 20px; height: 20px;background-color: rgb(200, 200, 200);\"></td><td title=\"Index: [5, 6]&#10;Color: (50, 50, 50)\" style=\"width: 20px; height: 20px;background-color: rgb(50, 50, 50);\"></td><td title=\"Index: [5, 7]&#10;Color: (200, 200, 200)\" style=\"width: 20px; height: 20px;background-color: rgb(200, 200, 200);\"></td><td title=\"Index: [5, 8]&#10;Color: (50, 50, 50)\" style=\"width: 20px; height: 20px;background-color: rgb(50, 50, 50);\"></td><td title=\"Index: [5, 9]&#10;Color: (200, 200, 200)\" style=\"width: 20px; height: 20px;background-color: rgb(200, 200, 200);\"></td><td title=\"Index: [5, 10]&#10;Color: (50, 50, 50)\" style=\"width: 20px; height: 20px;background-color: rgb(50, 50, 50);\"></td><td title=\"Index: [5, 11]&#10;Color: (200, 200, 200)\" style=\"width: 20px; height: 20px;background-color: rgb(200, 200, 200);\"></td><td title=\"Index: [5, 12]&#10;Color: (245, 178, 34)\" style=\"width: 20px; height: 20px;background-color: rgb(245, 178, 34);\"></td><td title=\"Index: [5, 13]&#10;Color: (50, 50, 50)\" style=\"width: 20px; height: 20px;background-color: rgb(50, 50, 50);\"></td></tr><tr><td title=\"Index: [6, 0]&#10;Color: (50, 50, 50)\" style=\"width: 20px; height: 20px;background-color: rgb(50, 50, 50);\"></td><td title=\"Index: [6, 1]&#10;Color: (50, 50, 50)\" style=\"width: 20px; height: 20px;background-color: rgb(50, 50, 50);\"></td><td title=\"Index: [6, 2]&#10;Color: (200, 200, 200)\" style=\"width: 20px; height: 20px;background-color: rgb(200, 200, 200);\"></td><td title=\"Index: [6, 3]&#10;Color: (50, 50, 50)\" style=\"width: 20px; height: 20px;background-color: rgb(50, 50, 50);\"></td><td title=\"Index: [6, 4]&#10;Color: (50, 50, 50)\" style=\"width: 20px; height: 20px;background-color: rgb(50, 50, 50);\"></td><td title=\"Index: [6, 5]&#10;Color: (200, 200, 200)\" style=\"width: 20px; height: 20px;background-color: rgb(200, 200, 200);\"></td><td title=\"Index: [6, 6]&#10;Color: (50, 50, 50)\" style=\"width: 20px; height: 20px;background-color: rgb(50, 50, 50);\"></td><td title=\"Index: [6, 7]&#10;Color: (200, 200, 200)\" style=\"width: 20px; height: 20px;background-color: rgb(200, 200, 200);\"></td><td title=\"Index: [6, 8]&#10;Color: (50, 50, 50)\" style=\"width: 20px; height: 20px;background-color: rgb(50, 50, 50);\"></td><td title=\"Index: [6, 9]&#10;Color: (200, 200, 200)\" style=\"width: 20px; height: 20px;background-color: rgb(200, 200, 200);\"></td><td title=\"Index: [6, 10]&#10;Color: (200, 200, 200)\" style=\"width: 20px; height: 20px;background-color: rgb(200, 200, 200);\"></td><td title=\"Index: [6, 11]&#10;Color: (200, 200, 200)\" style=\"width: 20px; height: 20px;background-color: rgb(200, 200, 200);\"></td><td title=\"Index: [6, 12]&#10;Color: (50, 50, 50)\" style=\"width: 20px; height: 20px;background-color: rgb(50, 50, 50);\"></td><td title=\"Index: [6, 13]&#10;Color: (50, 50, 50)\" style=\"width: 20px; height: 20px;background-color: rgb(50, 50, 50);\"></td></tr><tr><td title=\"Index: [7, 0]&#10;Color: (50, 50, 50)\" style=\"width: 20px; height: 20px;background-color: rgb(50, 50, 50);\"></td><td title=\"Index: [7, 1]&#10;Color: (50, 50, 50)\" style=\"width: 20px; height: 20px;background-color: rgb(50, 50, 50);\"></td><td title=\"Index: [7, 2]&#10;Color: (200, 200, 200)\" style=\"width: 20px; height: 20px;background-color: rgb(200, 200, 200);\"></td><td title=\"Index: [7, 3]&#10;Color: (50, 50, 50)\" style=\"width: 20px; height: 20px;background-color: rgb(50, 50, 50);\"></td><td title=\"Index: [7, 4]&#10;Color: (50, 50, 50)\" style=\"width: 20px; height: 20px;background-color: rgb(50, 50, 50);\"></td><td title=\"Index: [7, 5]&#10;Color: (50, 50, 50)\" style=\"width: 20px; height: 20px;background-color: rgb(50, 50, 50);\"></td><td title=\"Index: [7, 6]&#10;Color: (50, 50, 50)\" style=\"width: 20px; height: 20px;background-color: rgb(50, 50, 50);\"></td><td title=\"Index: [7, 7]&#10;Color: (200, 200, 200)\" style=\"width: 20px; height: 20px;background-color: rgb(200, 200, 200);\"></td><td title=\"Index: [7, 8]&#10;Color: (200, 200, 200)\" style=\"width: 20px; height: 20px;background-color: rgb(200, 200, 200);\"></td><td title=\"Index: [7, 9]&#10;Color: (200, 200, 200)\" style=\"width: 20px; height: 20px;background-color: rgb(200, 200, 200);\"></td><td title=\"Index: [7, 10]&#10;Color: (50, 50, 50)\" style=\"width: 20px; height: 20px;background-color: rgb(50, 50, 50);\"></td><td title=\"Index: [7, 11]&#10;Color: (50, 50, 50)\" style=\"width: 20px; height: 20px;background-color: rgb(50, 50, 50);\"></td><td title=\"Index: [7, 12]&#10;Color: (50, 50, 50)\" style=\"width: 20px; height: 20px;background-color: rgb(50, 50, 50);\"></td><td title=\"Index: [7, 13]&#10;Color: (50, 50, 50)\" style=\"width: 20px; height: 20px;background-color: rgb(50, 50, 50);\"></td></tr><tr><td title=\"Index: [8, 0]&#10;Color: (50, 50, 50)\" style=\"width: 20px; height: 20px;background-color: rgb(50, 50, 50);\"></td><td title=\"Index: [8, 1]&#10;Color: (200, 200, 200)\" style=\"width: 20px; height: 20px;background-color: rgb(200, 200, 200);\"></td><td title=\"Index: [8, 2]&#10;Color: (200, 200, 200)\" style=\"width: 20px; height: 20px;background-color: rgb(200, 200, 200);\"></td><td title=\"Index: [8, 3]&#10;Color: (200, 200, 200)\" style=\"width: 20px; height: 20px;background-color: rgb(200, 200, 200);\"></td><td title=\"Index: [8, 4]&#10;Color: (200, 200, 200)\" style=\"width: 20px; height: 20px;background-color: rgb(200, 200, 200);\"></td><td title=\"Index: [8, 5]&#10;Color: (200, 200, 200)\" style=\"width: 20px; height: 20px;background-color: rgb(200, 200, 200);\"></td><td title=\"Index: [8, 6]&#10;Color: (200, 200, 200)\" style=\"width: 20px; height: 20px;background-color: rgb(200, 200, 200);\"></td><td title=\"Index: [8, 7]&#10;Color: (200, 200, 200)\" style=\"width: 20px; height: 20px;background-color: rgb(200, 200, 200);\"></td><td title=\"Index: [8, 8]&#10;Color: (50, 50, 50)\" style=\"width: 20px; height: 20px;background-color: rgb(50, 50, 50);\"></td><td title=\"Index: [8, 9]&#10;Color: (200, 200, 200)\" style=\"width: 20px; height: 20px;background-color: rgb(200, 200, 200);\"></td><td title=\"Index: [8, 10]&#10;Color: (200, 200, 200)\" style=\"width: 20px; height: 20px;background-color: rgb(200, 200, 200);\"></td><td title=\"Index: [8, 11]&#10;Color: (200, 200, 200)\" style=\"width: 20px; height: 20px;background-color: rgb(200, 200, 200);\"></td><td title=\"Index: [8, 12]&#10;Color: (200, 200, 200)\" style=\"width: 20px; height: 20px;background-color: rgb(200, 200, 200);\"></td><td title=\"Index: [8, 13]&#10;Color: (50, 50, 50)\" style=\"width: 20px; height: 20px;background-color: rgb(50, 50, 50);\"></td></tr><tr><td title=\"Index: [9, 0]&#10;Color: (50, 50, 50)\" style=\"width: 20px; height: 20px;background-color: rgb(50, 50, 50);\"></td><td title=\"Index: [9, 1]&#10;Color: (50, 50, 50)\" style=\"width: 20px; height: 20px;background-color: rgb(50, 50, 50);\"></td><td title=\"Index: [9, 2]&#10;Color: (50, 50, 50)\" style=\"width: 20px; height: 20px;background-color: rgb(50, 50, 50);\"></td><td title=\"Index: [9, 3]&#10;Color: (50, 50, 50)\" style=\"width: 20px; height: 20px;background-color: rgb(50, 50, 50);\"></td><td title=\"Index: [9, 4]&#10;Color: (50, 50, 50)\" style=\"width: 20px; height: 20px;background-color: rgb(50, 50, 50);\"></td><td title=\"Index: [9, 5]&#10;Color: (50, 50, 50)\" style=\"width: 20px; height: 20px;background-color: rgb(50, 50, 50);\"></td><td title=\"Index: [9, 6]&#10;Color: (50, 50, 50)\" style=\"width: 20px; height: 20px;background-color: rgb(50, 50, 50);\"></td><td title=\"Index: [9, 7]&#10;Color: (50, 50, 50)\" style=\"width: 20px; height: 20px;background-color: rgb(50, 50, 50);\"></td><td title=\"Index: [9, 8]&#10;Color: (50, 50, 50)\" style=\"width: 20px; height: 20px;background-color: rgb(50, 50, 50);\"></td><td title=\"Index: [9, 9]&#10;Color: (50, 50, 50)\" style=\"width: 20px; height: 20px;background-color: rgb(50, 50, 50);\"></td><td title=\"Index: [9, 10]&#10;Color: (50, 50, 50)\" style=\"width: 20px; height: 20px;background-color: rgb(50, 50, 50);\"></td><td title=\"Index: [9, 11]&#10;Color: (50, 50, 50)\" style=\"width: 20px; height: 20px;background-color: rgb(50, 50, 50);\"></td><td title=\"Index: [9, 12]&#10;Color: (50, 50, 50)\" style=\"width: 20px; height: 20px;background-color: rgb(50, 50, 50);\"></td><td title=\"Index: [9, 13]&#10;Color: (50, 50, 50)\" style=\"width: 20px; height: 20px;background-color: rgb(50, 50, 50);\"></td></tr></tbody></table>"
      ],
      "text/plain": [
       "<IPython.core.display.HTML object>"
      ]
     },
     "metadata": {},
     "output_type": "display_data"
    }
   ],
   "source": [
    "run_maze()"
   ]
  },
  {
   "cell_type": "code",
   "execution_count": null,
   "id": "f33f1d4c-21b5-420c-9867-8044943447f5",
   "metadata": {},
   "outputs": [],
   "source": []
  }
 ],
 "metadata": {
  "kernelspec": {
   "display_name": "Python 3 (ipykernel)",
   "language": "python",
   "name": "python3"
  },
  "language_info": {
   "codemirror_mode": {
    "name": "ipython",
    "version": 3
   },
   "file_extension": ".py",
   "mimetype": "text/x-python",
   "name": "python",
   "nbconvert_exporter": "python",
   "pygments_lexer": "ipython3",
   "version": "3.10.4"
  }
 },
 "nbformat": 4,
 "nbformat_minor": 5
}
